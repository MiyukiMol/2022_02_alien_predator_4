{
 "cells": [
  {
   "cell_type": "markdown",
   "metadata": {},
   "source": [
    "# etude sur Alien vs Predator - épisode 4 : A New Hope"
   ]
  },
  {
   "cell_type": "code",
   "execution_count": 1,
   "metadata": {
    "id": "Y7hLjirNYvly"
   },
   "outputs": [],
   "source": [
    "import pandas as pd\n",
    "import numpy as np\n",
    "import matplotlib.pyplot as plt\n",
    "import seaborn as sns\n",
    "from keras.preprocessing.image import load_img, img_to_array\n",
    "from keras.preprocessing.image import ImageDataGenerator\n",
    "from tensorflow.keras.models import Sequential, load_model\n",
    "from tensorflow.keras import layers \n",
    "from tensorflow.keras.layers import InputLayer, Dense, Flatten\n",
    "from tensorflow.keras.layers import Conv2D, MaxPooling2D\n",
    "from tensorflow.keras.optimizers import Adam\n",
    "from sklearn.metrics import classification_report\n",
    "from sklearn.metrics import confusion_matrix\n",
    "from tensorflow.keras.applications.vgg16 import VGG16, preprocess_input, decode_predictions\n",
    "from sklearn.metrics import roc_curve\n",
    "from sklearn.metrics import auc\n",
    "import tensorflow"
   ]
  },
  {
   "cell_type": "markdown",
   "metadata": {
    "id": "-qJ8mrwgaK4k"
   },
   "source": [
    "#### 2 - set option pour l'affichage"
   ]
  },
  {
   "cell_type": "code",
   "execution_count": 2,
   "metadata": {
    "id": "uqO216MrY16D"
   },
   "outputs": [],
   "source": [
    "pd.set_option(\"max_columns\", None)\n",
    "pd.set_option(\"max_colwidth\", None)\n",
    "pd.set_option(\"max_row\", 500)"
   ]
  },
  {
   "cell_type": "markdown",
   "metadata": {
    "id": "P1McREfXaNOW"
   },
   "source": [
    "#### connexion to drive"
   ]
  },
  {
   "cell_type": "code",
   "execution_count": 3,
   "metadata": {
    "colab": {
     "base_uri": "https://localhost:8080/"
    },
    "id": "GJHL9IE4Y78t",
    "outputId": "0f824413-3f55-4b59-ade0-3a7d09572d56"
   },
   "outputs": [
    {
     "name": "stdout",
     "output_type": "stream",
     "text": [
      "Mounted at /content/drive\n"
     ]
    }
   ],
   "source": [
    "from google.colab import drive\n",
    "drive.mount('/content/drive')"
   ]
  },
  {
   "cell_type": "code",
   "execution_count": 4,
   "metadata": {
    "id": "huCkG6IIZEnL"
   },
   "outputs": [],
   "source": [
    "dataset_dir = '/content/drive/MyDrive/Colab Notebooks/2022_02_08_ep4_Alien_Predator/'\n",
    "\n",
    "TRAINING_DIR = dataset_dir + 'Data/Train/'\n",
    "VALIDATION_DIR = dataset_dir + 'Data/Validation/'\n",
    "TEST_DIR = dataset_dir + 'Data/Test/'"
   ]
  },
  {
   "cell_type": "markdown",
   "metadata": {
    "id": "uk9FExBbaEje"
   },
   "source": [
    "#### 3 - charger des donnés"
   ]
  },
  {
   "cell_type": "code",
   "execution_count": 5,
   "metadata": {
    "id": "_vIZdvEQZWT-"
   },
   "outputs": [],
   "source": [
    "X_test = np.load(dataset_dir + 'X_test.npy')\n",
    "y_test = np.load(dataset_dir + 'y_test.npy')"
   ]
  },
  {
   "cell_type": "markdown",
   "metadata": {
    "id": "KEneAzPkZ-Ne"
   },
   "source": [
    "#### 4 - charger le modele VGG-16"
   ]
  },
  {
   "cell_type": "code",
   "execution_count": 6,
   "metadata": {
    "id": "2lVBLaXpY18j"
   },
   "outputs": [],
   "source": [
    "model_4 = load_model('/content/drive/MyDrive/Colab Notebooks/2022_02_08_ep4_Alien_Predator/' + 'model_ep4')"
   ]
  },
  {
   "cell_type": "markdown",
   "metadata": {
    "id": "YjplPcqlZ3-M"
   },
   "source": [
    "#### 5 - prediction"
   ]
  },
  {
   "cell_type": "code",
   "execution_count": 7,
   "metadata": {
    "id": "8eBeqZzMY1_W"
   },
   "outputs": [],
   "source": [
    "y_test_pred = model_4.predict(X_test)"
   ]
  },
  {
   "cell_type": "code",
   "execution_count": 8,
   "metadata": {
    "id": "jIMvl9w5W59J"
   },
   "outputs": [],
   "source": [
    "y_test_pred  = y_test_pred > 0.5"
   ]
  },
  {
   "cell_type": "markdown",
   "metadata": {
    "id": "u0vOJTRcaUl0"
   },
   "source": [
    "#### 6 - matrix de confusion"
   ]
  },
  {
   "cell_type": "code",
   "execution_count": 9,
   "metadata": {
    "colab": {
     "base_uri": "https://localhost:8080/"
    },
    "id": "wFRyAqkPW6Pr",
    "outputId": "6147df92-4066-4654-c313-bc641fde3e51"
   },
   "outputs": [
    {
     "data": {
      "text/plain": [
       "array([[95,  5],\n",
       "       [13, 87]])"
      ]
     },
     "execution_count": 9,
     "metadata": {},
     "output_type": "execute_result"
    }
   ],
   "source": [
    "cm_test = confusion_matrix(y_test, y_test_pred)\n",
    "cm_test"
   ]
  },
  {
   "cell_type": "code",
   "execution_count": 10,
   "metadata": {
    "colab": {
     "base_uri": "https://localhost:8080/",
     "height": 295
    },
    "id": "27Qq1YviW6TS",
    "outputId": "2aa206c8-c7fe-40fc-a901-39e1679b5d65"
   },
   "outputs": [
    {
     "data": {
      "image/png": "[encoded data removed]",
      "text/plain": [
       "<Figure size 432x288 with 2 Axes>"
      ]
     },
     "metadata": {
      "needs_background": "light"
     },
     "output_type": "display_data"
    }
   ],
   "source": [
    "ax= plt.subplot()\n",
    "\n",
    "group_names = ['True_Neg','False_Pos','False_Neg','True_Pos']\n",
    "group_counts = [\"{0:0.0f}\".format(value) for value in cm_test.flatten()]\n",
    "group_percentages1 = [\"{0:.3%}\".format(value) for value in cm_test.flatten()[0:2]/np.sum(cm_test.flatten()[0:2])]\n",
    "group_percentages2 = [\"{0:.3%}\".format(value) for value in cm_test.flatten()[2:]/np.sum(cm_test.flatten()[2:])]\n",
    "group_percentages = np.append(group_percentages1, group_percentages2).tolist()\n",
    "labels = [f\"{v1}\\n{v2}\\n{v3}\" for v1, v2, v3 in zip (group_names, group_counts, group_percentages)]\n",
    "labels = np.array(labels).reshape(2,2)\n",
    "\n",
    "sns.heatmap(cm_test, annot=labels, fmt='', cmap='Blues')\n",
    "\n",
    "ax.set_xlabel('Predited labels')\n",
    "ax.set_ylabel('True labels') \n",
    "ax.set_title('Confusion Matrix Test') \n",
    "\n",
    "plt.show()"
   ]
  },
  {
   "cell_type": "code",
   "execution_count": 11,
   "metadata": {
    "colab": {
     "base_uri": "https://localhost:8080/"
    },
    "id": "966RPbqJW6XG",
    "outputId": "5baf7dd7-7434-445a-eca7-1c347493fb63"
   },
   "outputs": [
    {
     "name": "stdout",
     "output_type": "stream",
     "text": [
      "              precision    recall  f1-score   support\n",
      "\n",
      "     Alien 0       0.88      0.95      0.91       100\n",
      "  Predator 1       0.95      0.87      0.91       100\n",
      "\n",
      "    accuracy                           0.91       200\n",
      "   macro avg       0.91      0.91      0.91       200\n",
      "weighted avg       0.91      0.91      0.91       200\n",
      "\n"
     ]
    }
   ],
   "source": [
    "target_names = ['Alien 0', 'Predator 1']\n",
    "print(classification_report(y_test, y_test_pred, target_names=target_names))"
   ]
  },
  {
   "cell_type": "code",
   "execution_count": 12,
   "metadata": {
    "colab": {
     "base_uri": "https://localhost:8080/"
    },
    "id": "RPHnkkl3a2aF",
    "outputId": "d8504fb9-dafe-4069-b4d1-379e3277451e"
   },
   "outputs": [
    {
     "name": "stdout",
     "output_type": "stream",
     "text": [
      "0.91\n"
     ]
    }
   ],
   "source": [
    "accuracy_score_keras = tensorflow.keras.metrics.BinaryAccuracy()\n",
    "accuracy_score_keras.update_state(y_test, y_test_pred)\n",
    "print(accuracy_score_keras.result().numpy())"
   ]
  },
  {
   "cell_type": "markdown",
   "metadata": {
    "id": "V-Zono-PawQM"
   },
   "source": [
    "#### 7 - Courbe ROC, AUC"
   ]
  },
  {
   "cell_type": "code",
   "execution_count": 13,
   "metadata": {
    "colab": {
     "base_uri": "https://localhost:8080/"
    },
    "id": "FiElAw5aaqG2",
    "outputId": "977c86d3-a918-4dd0-b0b7-9ab45377f7db"
   },
   "outputs": [
    {
     "data": {
      "text/plain": [
       "0.90999997"
      ]
     },
     "execution_count": 13,
     "metadata": {},
     "output_type": "execute_result"
    }
   ],
   "source": [
    "AUC_keras = tensorflow.keras.metrics.AUC()\n",
    "AUC_keras.update_state(y_test, y_test_pred)\n",
    "AUC_keras.result().numpy()"
   ]
  },
  {
   "cell_type": "code",
   "execution_count": 14,
   "metadata": {
    "colab": {
     "base_uri": "https://localhost:8080/",
     "height": 282
    },
    "id": "emB3TOnQaqLs",
    "outputId": "9f690c75-6fd6-4db7-e1de-73fb3fe2316c"
   },
   "outputs": [
    {
     "data": {
      "image/png": "[encoded data removed]",
      "text/plain": [
       "<Figure size 432x288 with 1 Axes>"
      ]
     },
     "metadata": {
      "needs_background": "light"
     },
     "output_type": "display_data"
    }
   ],
   "source": [
    "#COURBE ROC\n",
    "\n",
    "FP_rate = []\n",
    "TP_rate = []\n",
    "\n",
    "for seuil in AUC_keras.thresholds[1:-1] :\n",
    "    FP_rate_seuil = tensorflow.keras.metrics.FalsePositives(thresholds=seuil)\n",
    "    FP_rate_seuil.update_state(y_test, model_4.predict(X_test).flatten())\n",
    "    \n",
    "    FP_rate.append(FP_rate_seuil.result().numpy())\n",
    "    \n",
    "    \n",
    "    TP_rate_seuil = tensorflow.keras.metrics.TruePositives(thresholds=seuil)\n",
    "    TP_rate_seuil.update_state(y_test, model_4.predict(X_test).flatten())\n",
    "    \n",
    "    TP_rate.append(TP_rate_seuil.result().numpy())\n",
    "\n",
    "    \n",
    "    \n",
    "#print(TP_rate)\n",
    "#print(FP_rate)\n",
    "    \n",
    "fig = plt.figure()\n",
    "plt.plot(FP_rate, TP_rate)\n",
    "plt.xlabel('FP_rate: False positive rate')\n",
    "plt.ylabel('TP_rate: True positive rate')\n",
    "plt.show()"
   ]
  },
  {
   "cell_type": "code",
   "execution_count": 15,
   "metadata": {
    "colab": {
     "base_uri": "https://localhost:8080/"
    },
    "id": "ggqL9nLIaqQr",
    "outputId": "3b5e21f3-3923-470c-a14b-f20a7ab57d77"
   },
   "outputs": [
    {
     "name": "stdout",
     "output_type": "stream",
     "text": [
      "AUC_test : 0.910\n"
     ]
    }
   ],
   "source": [
    "fpr, tpr, thresholds = roc_curve(y_test, y_test_pred)\n",
    "roc_auc = auc(fpr, tpr)\n",
    "print('AUC_test : {:.3f}'.format(roc_auc))"
   ]
  },
  {
   "cell_type": "code",
   "execution_count": 16,
   "metadata": {
    "id": "orgPEa8DaqVc"
   },
   "outputs": [],
   "source": [
    "auc = auc(fpr, tpr)"
   ]
  },
  {
   "cell_type": "code",
   "execution_count": 17,
   "metadata": {
    "colab": {
     "base_uri": "https://localhost:8080/",
     "height": 279
    },
    "id": "a6-NTlmXW6a_",
    "outputId": "8e01a66b-1334-4f7f-dd75-ebb35de3502a"
   },
   "outputs": [
    {
     "data": {
      "image/png": "[encoded data removed]",
      "text/plain": [
       "<Figure size 432x288 with 1 Axes>"
      ]
     },
     "metadata": {
      "needs_background": "light"
     },
     "output_type": "display_data"
    }
   ],
   "source": [
    "plt.plot(fpr, tpr, label='ROC curve (area = %.2f)'%auc)\n",
    "plt.legend()\n",
    "plt.xlabel('FPR: False positive rate')\n",
    "plt.ylabel('TPR: True positive rate')\n",
    "plt.grid()\n",
    "plt.show()"
   ]
  },
  {
   "cell_type": "code",
   "execution_count": 17,
   "metadata": {
    "id": "GRoTtwbqW6e2"
   },
   "outputs": [],
   "source": []
  },
  {
   "cell_type": "code",
   "execution_count": 17,
   "metadata": {
    "id": "aLX9d9gfY2Db"
   },
   "outputs": [],
   "source": []
  }
 ],
 "metadata": {
  "accelerator": "GPU",
  "colab": {
   "collapsed_sections": [],
   "name": "2022_02_ep4_test.ipynb",
   "provenance": []
  },
  "kernelspec": {
   "display_name": "Python 3 (ipykernel)",
   "language": "python",
   "name": "python3"
  },
  "language_info": {
   "codemirror_mode": {
    "name": "ipython",
    "version": 3
   },
   "file_extension": ".py",
   "mimetype": "text/x-python",
   "name": "python",
   "nbconvert_exporter": "python",
   "pygments_lexer": "ipython3",
   "version": "3.9.7"
  }
 },
 "nbformat": 4,
 "nbformat_minor": 1
}
